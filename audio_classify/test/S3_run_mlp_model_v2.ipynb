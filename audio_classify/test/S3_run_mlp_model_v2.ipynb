{
 "cells": [
  {
   "cell_type": "code",
   "execution_count": 9,
   "metadata": {
    "execution": {
     "iopub.execute_input": "2020-09-17T17:19:18.297952Z",
     "iopub.status.busy": "2020-09-17T17:19:18.297699Z",
     "iopub.status.idle": "2020-09-17T17:19:18.367076Z",
     "shell.execute_reply": "2020-09-17T17:19:18.366505Z",
     "shell.execute_reply.started": "2020-09-17T17:19:18.297918Z"
    }
   },
   "outputs": [
    {
     "name": "stdout",
     "output_type": "stream",
     "text": [
      "The autoreload extension is already loaded. To reload it, use:\n",
      "  %reload_ext autoreload\n"
     ]
    }
   ],
   "source": [
    "import librosa\n",
    "import numpy as np\n",
    "from tensorflow import keras\n",
    "\n",
    "%load_ext autoreload\n",
    "%autoreload 2\n",
    "%run ./S0_util.ipynb"
   ]
  },
  {
   "cell_type": "markdown",
   "metadata": {
    "execution": {
     "iopub.execute_input": "2020-09-17T16:58:07.169389Z",
     "iopub.status.busy": "2020-09-17T16:58:07.169130Z",
     "iopub.status.idle": "2020-09-17T16:58:07.219121Z",
     "shell.execute_reply": "2020-09-17T16:58:07.218051Z",
     "shell.execute_reply.started": "2020-09-17T16:58:07.169367Z"
    }
   },
   "source": [
    "### Sumário da Rede\n",
    "|Layer (typex)               | Output Shape        | Param   | \n",
    "| -------------------------- | ------------------- |---------|\n",
    "|conv2d (Conv2D)             | (None, 257, 22, 32) | 320     |  \n",
    "|max_pooling2d (MaxPooling2D)| (None, 129, 11, 32) | 0       |  \n",
    "|batch_normalization (BatchNo| (None, 129, 11, 32) | 128     |  \n",
    "|conv2d_1 (Conv2D)           | (None, 127, 9, 32)  | 9248    |  \n",
    "|max_pooling2d_1 (MaxPooling2| (None, 64, 5, 32)   | 0       |  \n",
    "|batch_normalization_1 (Batch| (None, 64, 5, 32)   | 128     |  \n",
    "|conv2d_2 (Conv2D)           | (None, 63, 4, 32)   | 4128    |  \n",
    "|max_pooling2d_2 (MaxPooling2| (None, 32, 2, 32)   | 0       |  \n",
    "|batch_normalization_2 (Batch| (None, 32, 2, 32)   | 128     |  \n",
    "|flatten (Flatten)           | (None, 2048)        | 0       |  \n",
    "|dense (Dense)               | (None, 64)          | 131136  |  \n",
    "|dropout (Dropout)           | (None, 64)          | 0       |  \n",
    "|dense_1 (Dense)             | (None, 2)           | 130     |  \n",
    "##### Batch 100 e EPOCHS 30"
   ]
  },
  {
   "cell_type": "markdown",
   "metadata": {
    "execution": {
     "iopub.execute_input": "2020-09-04T13:27:03.632198Z",
     "iopub.status.busy": "2020-09-04T13:27:03.631921Z",
     "iopub.status.idle": "2020-09-04T13:27:03.681992Z",
     "shell.execute_reply": "2020-09-04T13:27:03.681300Z",
     "shell.execute_reply.started": "2020-09-04T13:27:03.632173Z"
    }
   },
   "source": [
    "<a id=\"mfcc\"></a>\n",
    "#### MFCC\n",
    "> Foi gerado apenas `13` MFCC values (Muito Utilizado para reconhecimento de padrão)"
   ]
  },
  {
   "cell_type": "markdown",
   "metadata": {},
   "source": [
    "* Novela: A Favorita"
   ]
  },
  {
   "cell_type": "code",
   "execution_count": 3,
   "metadata": {
    "execution": {
     "iopub.execute_input": "2020-09-17T17:16:01.254231Z",
     "iopub.status.busy": "2020-09-17T17:16:01.253960Z",
     "iopub.status.idle": "2020-09-17T17:16:32.242964Z",
     "shell.execute_reply": "2020-09-17T17:16:32.242460Z",
     "shell.execute_reply.started": "2020-09-17T17:16:01.254208Z"
    }
   },
   "outputs": [
    {
     "name": "stdout",
     "output_type": "stream",
     "text": [
      "******Abertura******\n",
      "SAMPLE SHAPE: (20, 130, 13, 1)\n"
     ]
    },
    {
     "data": {
      "image/png": "[encoded data removed]",
      "text/plain": [
       "<Figure size 864x288 with 1 Axes>"
      ]
     },
     "metadata": {
      "needs_background": "light"
     },
     "output_type": "display_data"
    },
    {
     "name": "stdout",
     "output_type": "stream",
     "text": [
      "*******Bloco1*******\n",
      "SAMPLE SHAPE: (239, 130, 13, 1)\n"
     ]
    },
    {
     "data": {
      "image/png": "[encoded data removed]",
      "text/plain": [
       "<Figure size 864x288 with 1 Axes>"
      ]
     },
     "metadata": {
      "needs_background": "light"
     },
     "output_type": "display_data"
    }
   ],
   "source": [
    "print(\"Abertura\".center(20, '*'))\n",
    "run_model([\"mfcc\"], '../data/globo/8701320.wav')\n",
    "print(\"Bloco1\".center(20, '*'))\n",
    "run_model([\"mfcc\"],'../data/globo/949809.wav')"
   ]
  },
  {
   "cell_type": "markdown",
   "metadata": {
    "execution": {
     "iopub.execute_input": "2020-09-04T14:05:20.612755Z",
     "iopub.status.busy": "2020-09-04T14:05:20.612470Z",
     "iopub.status.idle": "2020-09-04T14:05:20.662006Z",
     "shell.execute_reply": "2020-09-04T14:05:20.660992Z",
     "shell.execute_reply.started": "2020-09-04T14:05:20.612732Z"
    }
   },
   "source": [
    "* Novela: Órfões da Terra"
   ]
  },
  {
   "cell_type": "code",
   "execution_count": 4,
   "metadata": {
    "execution": {
     "iopub.execute_input": "2020-09-17T17:16:32.244196Z",
     "iopub.status.busy": "2020-09-17T17:16:32.243981Z",
     "iopub.status.idle": "2020-09-17T17:16:58.416690Z",
     "shell.execute_reply": "2020-09-17T17:16:58.416007Z",
     "shell.execute_reply.started": "2020-09-17T17:16:32.244176Z"
    }
   },
   "outputs": [
    {
     "name": "stdout",
     "output_type": "stream",
     "text": [
      "******Abertura******\n",
      "SAMPLE SHAPE: (22, 130, 13, 1)\n"
     ]
    },
    {
     "data": {
      "image/png": "[encoded data removed]",
      "text/plain": [
       "<Figure size 864x288 with 1 Axes>"
      ]
     },
     "metadata": {
      "needs_background": "light"
     },
     "output_type": "display_data"
    },
    {
     "name": "stdout",
     "output_type": "stream",
     "text": [
      "*******Bloco1*******\n",
      "SAMPLE SHAPE: (203, 130, 13, 1)\n"
     ]
    },
    {
     "data": {
      "image/png": "[encoded data removed]",
      "text/plain": [
       "<Figure size 864x288 with 1 Axes>"
      ]
     },
     "metadata": {
      "needs_background": "light"
     },
     "output_type": "display_data"
    }
   ],
   "source": [
    "print(\"Abertura\".center(20, '*'))\n",
    "run_model([\"mfcc\"], \"../data/globo/7822663.wav\")\n",
    "print(\"Bloco1\".center(20, '*'))\n",
    "run_model([\"mfcc\"],\"../data/globo/7957359.wav\")"
   ]
  },
  {
   "cell_type": "markdown",
   "metadata": {
    "execution": {
     "iopub.execute_input": "2020-09-04T13:27:03.632198Z",
     "iopub.status.busy": "2020-09-04T13:27:03.631921Z",
     "iopub.status.idle": "2020-09-04T13:27:03.681992Z",
     "shell.execute_reply": "2020-09-04T13:27:03.681300Z",
     "shell.execute_reply.started": "2020-09-04T13:27:03.632173Z"
    }
   },
   "source": [
    "<a id=\"mfcc\"></a>\n",
    "#### MFCC + ZCR\n",
    "> Foi gerado apenas `13` MFCC values (Muito Utilizado para reconhecimento de padrão)"
   ]
  },
  {
   "cell_type": "markdown",
   "metadata": {},
   "source": [
    "* Novela: A Favorita"
   ]
  },
  {
   "cell_type": "code",
   "execution_count": 5,
   "metadata": {
    "execution": {
     "iopub.execute_input": "2020-09-17T17:16:58.418336Z",
     "iopub.status.busy": "2020-09-17T17:16:58.418040Z",
     "iopub.status.idle": "2020-09-17T17:17:28.612949Z",
     "shell.execute_reply": "2020-09-17T17:17:28.612409Z",
     "shell.execute_reply.started": "2020-09-17T17:16:58.418308Z"
    }
   },
   "outputs": [
    {
     "name": "stdout",
     "output_type": "stream",
     "text": [
      "******Abertura******\n",
      "SAMPLE SHAPE: (20, 130, 14, 1)\n"
     ]
    },
    {
     "data": {
      "image/png": "[encoded data removed]",
      "text/plain": [
       "<Figure size 864x288 with 1 Axes>"
      ]
     },
     "metadata": {
      "needs_background": "light"
     },
     "output_type": "display_data"
    },
    {
     "name": "stdout",
     "output_type": "stream",
     "text": [
      "*******Bloco1*******\n",
      "SAMPLE SHAPE: (239, 130, 14, 1)\n",
      "WARNING:tensorflow:5 out of the last 18 calls to <function Model.make_predict_function.<locals>.predict_function at 0x7fdd93d3c040> triggered tf.function retracing. Tracing is expensive and the excessive number of tracings could be due to (1) creating @tf.function repeatedly in a loop, (2) passing tensors with different shapes, (3) passing Python objects instead of tensors. For (1), please define your @tf.function outside of the loop. For (2), @tf.function has experimental_relax_shapes=True option that relaxes argument shapes that can avoid unnecessary retracing. For (3), please refer to https://www.tensorflow.org/tutorials/customization/performance#python_or_tensor_args and https://www.tensorflow.org/api_docs/python/tf/function for  more details.\n"
     ]
    },
    {
     "data": {
      "image/png": "[encoded data removed]",
      "text/plain": [
       "<Figure size 864x288 with 1 Axes>"
      ]
     },
     "metadata": {
      "needs_background": "light"
     },
     "output_type": "display_data"
    }
   ],
   "source": [
    "print(\"Abertura\".center(20, '*'))\n",
    "run_model([\"mfcc\", \"zcr\"], '../data/globo/8701320.wav')\n",
    "print(\"Bloco1\".center(20, '*'))\n",
    "run_model([\"mfcc\", \"zcr\"],'../data/globo/949809.wav')"
   ]
  },
  {
   "cell_type": "markdown",
   "metadata": {
    "execution": {
     "iopub.execute_input": "2020-09-04T14:05:20.612755Z",
     "iopub.status.busy": "2020-09-04T14:05:20.612470Z",
     "iopub.status.idle": "2020-09-04T14:05:20.662006Z",
     "shell.execute_reply": "2020-09-04T14:05:20.660992Z",
     "shell.execute_reply.started": "2020-09-04T14:05:20.612732Z"
    }
   },
   "source": [
    "* Novela: Órfões da Terra"
   ]
  },
  {
   "cell_type": "code",
   "execution_count": 6,
   "metadata": {
    "execution": {
     "iopub.execute_input": "2020-09-17T17:17:28.614366Z",
     "iopub.status.busy": "2020-09-17T17:17:28.614185Z",
     "iopub.status.idle": "2020-09-17T17:17:54.696748Z",
     "shell.execute_reply": "2020-09-17T17:17:54.696239Z",
     "shell.execute_reply.started": "2020-09-17T17:17:28.614349Z"
    }
   },
   "outputs": [
    {
     "name": "stdout",
     "output_type": "stream",
     "text": [
      "******Abertura******\n",
      "SAMPLE SHAPE: (22, 130, 14, 1)\n"
     ]
    },
    {
     "data": {
      "image/png": "[encoded data removed]",
      "text/plain": [
       "<Figure size 864x288 with 1 Axes>"
      ]
     },
     "metadata": {
      "needs_background": "light"
     },
     "output_type": "display_data"
    },
    {
     "name": "stdout",
     "output_type": "stream",
     "text": [
      "*******Bloco1*******\n",
      "SAMPLE SHAPE: (203, 130, 14, 1)\n"
     ]
    },
    {
     "data": {
      "image/png": "[encoded data removed]",
      "text/plain": [
       "<Figure size 864x288 with 1 Axes>"
      ]
     },
     "metadata": {
      "needs_background": "light"
     },
     "output_type": "display_data"
    }
   ],
   "source": [
    "print(\"Abertura\".center(20, '*'))\n",
    "run_model([\"mfcc\", \"zcr\"], \"../data/globo/7822663.wav\")\n",
    "print(\"Bloco1\".center(20, '*'))\n",
    "run_model([\"mfcc\", \"zcr\"],\"../data/globo/7957359.wav\")"
   ]
  },
  {
   "cell_type": "markdown",
   "metadata": {
    "execution": {
     "iopub.execute_input": "2020-09-04T13:27:03.632198Z",
     "iopub.status.busy": "2020-09-04T13:27:03.631921Z",
     "iopub.status.idle": "2020-09-04T13:27:03.681992Z",
     "shell.execute_reply": "2020-09-04T13:27:03.681300Z",
     "shell.execute_reply.started": "2020-09-04T13:27:03.632173Z"
    }
   },
   "source": [
    "<a id=\"mfcc\"></a>\n",
    "#### MFCC + ZCR + CENTROID\n",
    "> Foi gerado apenas `13` MFCC values (Muito Utilizado para reconhecimento de padrão)"
   ]
  },
  {
   "cell_type": "markdown",
   "metadata": {},
   "source": [
    "* Novela: A Favorita"
   ]
  },
  {
   "cell_type": "code",
   "execution_count": 7,
   "metadata": {
    "execution": {
     "iopub.execute_input": "2020-09-17T17:18:21.428503Z",
     "iopub.status.busy": "2020-09-17T17:18:21.428227Z",
     "iopub.status.idle": "2020-09-17T17:18:51.404694Z",
     "shell.execute_reply": "2020-09-17T17:18:51.404185Z",
     "shell.execute_reply.started": "2020-09-17T17:18:21.428480Z"
    }
   },
   "outputs": [
    {
     "name": "stdout",
     "output_type": "stream",
     "text": [
      "******Abertura******\n",
      "SAMPLE SHAPE: (20, 130, 15, 1)\n"
     ]
    },
    {
     "data": {
      "image/png": "[encoded data removed]",
      "text/plain": [
       "<Figure size 864x288 with 1 Axes>"
      ]
     },
     "metadata": {
      "needs_background": "light"
     },
     "output_type": "display_data"
    },
    {
     "name": "stdout",
     "output_type": "stream",
     "text": [
      "*******Bloco1*******\n",
      "SAMPLE SHAPE: (239, 130, 15, 1)\n",
      "WARNING:tensorflow:5 out of the last 18 calls to <function Model.make_predict_function.<locals>.predict_function at 0x7fdd7bd85d30> triggered tf.function retracing. Tracing is expensive and the excessive number of tracings could be due to (1) creating @tf.function repeatedly in a loop, (2) passing tensors with different shapes, (3) passing Python objects instead of tensors. For (1), please define your @tf.function outside of the loop. For (2), @tf.function has experimental_relax_shapes=True option that relaxes argument shapes that can avoid unnecessary retracing. For (3), please refer to https://www.tensorflow.org/tutorials/customization/performance#python_or_tensor_args and https://www.tensorflow.org/api_docs/python/tf/function for  more details.\n"
     ]
    },
    {
     "data": {
      "image/png": "[encoded data removed]",
      "text/plain": [
       "<Figure size 864x288 with 1 Axes>"
      ]
     },
     "metadata": {
      "needs_background": "light"
     },
     "output_type": "display_data"
    }
   ],
   "source": [
    "print(\"Abertura\".center(20, '*'))\n",
    "run_model([\"mfcc\", \"centroid\", \"zcr\"], '../data/globo/8701320.wav')\n",
    "print(\"Bloco1\".center(20, '*'))\n",
    "run_model([\"mfcc\", \"centroid\", \"zcr\"],'../data/globo/949809.wav')"
   ]
  },
  {
   "cell_type": "markdown",
   "metadata": {
    "execution": {
     "iopub.execute_input": "2020-09-04T14:05:20.612755Z",
     "iopub.status.busy": "2020-09-04T14:05:20.612470Z",
     "iopub.status.idle": "2020-09-04T14:05:20.662006Z",
     "shell.execute_reply": "2020-09-04T14:05:20.660992Z",
     "shell.execute_reply.started": "2020-09-04T14:05:20.612732Z"
    }
   },
   "source": [
    "* Novela: Órfões da Terra"
   ]
  },
  {
   "cell_type": "code",
   "execution_count": 8,
   "metadata": {
    "execution": {
     "iopub.execute_input": "2020-09-17T17:18:51.405935Z",
     "iopub.status.busy": "2020-09-17T17:18:51.405709Z",
     "iopub.status.idle": "2020-09-17T17:19:18.296218Z",
     "shell.execute_reply": "2020-09-17T17:19:18.295717Z",
     "shell.execute_reply.started": "2020-09-17T17:18:51.405915Z"
    }
   },
   "outputs": [
    {
     "name": "stdout",
     "output_type": "stream",
     "text": [
      "******Abertura******\n",
      "SAMPLE SHAPE: (22, 130, 15, 1)\n"
     ]
    },
    {
     "data": {
      "image/png": "[encoded data removed]",
      "text/plain": [
       "<Figure size 864x288 with 1 Axes>"
      ]
     },
     "metadata": {
      "needs_background": "light"
     },
     "output_type": "display_data"
    },
    {
     "name": "stdout",
     "output_type": "stream",
     "text": [
      "*******Bloco1*******\n",
      "SAMPLE SHAPE: (203, 130, 15, 1)\n"
     ]
    },
    {
     "data": {
      "image/png": "[encoded data removed]",
      "text/plain": [
       "<Figure size 864x288 with 1 Axes>"
      ]
     },
     "metadata": {
      "needs_background": "light"
     },
     "output_type": "display_data"
    }
   ],
   "source": [
    "print(\"Abertura\".center(20, '*'))\n",
    "run_model([\"mfcc\", \"centroid\", \"zcr\"], \"../data/globo/7822663.wav\")\n",
    "print(\"Bloco1\".center(20, '*'))\n",
    "run_model([\"mfcc\", \"centroid\", \"zcr\"],\"../data/globo/7957359.wav\")"
   ]
  },
  {
   "cell_type": "markdown",
   "metadata": {
    "execution": {
     "iopub.execute_input": "2020-09-04T13:27:03.632198Z",
     "iopub.status.busy": "2020-09-04T13:27:03.631921Z",
     "iopub.status.idle": "2020-09-04T13:27:03.681992Z",
     "shell.execute_reply": "2020-09-04T13:27:03.681300Z",
     "shell.execute_reply.started": "2020-09-04T13:27:03.632173Z"
    }
   },
   "source": [
    "<a id=\"mel_spec\"></a>\n",
    "#### MEL SPEC\n",
    "> Mel Spec foi gerado utilizando 20 faixas"
   ]
  },
  {
   "cell_type": "markdown",
   "metadata": {},
   "source": [
    "* Novela: A Favorita"
   ]
  },
  {
   "cell_type": "code",
   "execution_count": 10,
   "metadata": {
    "execution": {
     "iopub.execute_input": "2020-09-17T17:19:31.513694Z",
     "iopub.status.busy": "2020-09-17T17:19:31.513425Z",
     "iopub.status.idle": "2020-09-17T17:20:02.683050Z",
     "shell.execute_reply": "2020-09-17T17:20:02.681988Z",
     "shell.execute_reply.started": "2020-09-17T17:19:31.513671Z"
    }
   },
   "outputs": [
    {
     "name": "stdout",
     "output_type": "stream",
     "text": [
      "******Abertura******\n",
      "SAMPLE SHAPE: (20, 130, 64, 1)\n"
     ]
    },
    {
     "data": {
      "image/png": "[encoded data removed]",
      "text/plain": [
       "<Figure size 864x288 with 1 Axes>"
      ]
     },
     "metadata": {
      "needs_background": "light"
     },
     "output_type": "display_data"
    },
    {
     "name": "stdout",
     "output_type": "stream",
     "text": [
      "*******Bloco1*******\n",
      "SAMPLE SHAPE: (239, 130, 64, 1)\n",
      "WARNING:tensorflow:5 out of the last 18 calls to <function Model.make_predict_function.<locals>.predict_function at 0x7fdd65cc7ca0> triggered tf.function retracing. Tracing is expensive and the excessive number of tracings could be due to (1) creating @tf.function repeatedly in a loop, (2) passing tensors with different shapes, (3) passing Python objects instead of tensors. For (1), please define your @tf.function outside of the loop. For (2), @tf.function has experimental_relax_shapes=True option that relaxes argument shapes that can avoid unnecessary retracing. For (3), please refer to https://www.tensorflow.org/tutorials/customization/performance#python_or_tensor_args and https://www.tensorflow.org/api_docs/python/tf/function for  more details.\n"
     ]
    },
    {
     "data": {
      "image/png": "[encoded data removed]",
      "text/plain": [
       "<Figure size 864x288 with 1 Axes>"
      ]
     },
     "metadata": {
      "needs_background": "light"
     },
     "output_type": "display_data"
    }
   ],
   "source": [
    "print(\"Abertura\".center(20, '*'))\n",
    "run_model([\"mel_spec\"], '../data/globo/8701320.wav')\n",
    "print(\"Bloco1\".center(20, '*'))\n",
    "run_model([\"mel_spec\"],'../data/globo/949809.wav')"
   ]
  },
  {
   "cell_type": "markdown",
   "metadata": {
    "execution": {
     "iopub.execute_input": "2020-09-04T14:05:20.612755Z",
     "iopub.status.busy": "2020-09-04T14:05:20.612470Z",
     "iopub.status.idle": "2020-09-04T14:05:20.662006Z",
     "shell.execute_reply": "2020-09-04T14:05:20.660992Z",
     "shell.execute_reply.started": "2020-09-04T14:05:20.612732Z"
    }
   },
   "source": [
    "* Novela: Órfões da Terra"
   ]
  },
  {
   "cell_type": "code",
   "execution_count": 11,
   "metadata": {
    "execution": {
     "iopub.execute_input": "2020-09-17T17:20:02.684260Z",
     "iopub.status.busy": "2020-09-17T17:20:02.684073Z",
     "iopub.status.idle": "2020-09-17T17:20:29.708631Z",
     "shell.execute_reply": "2020-09-17T17:20:29.708086Z",
     "shell.execute_reply.started": "2020-09-17T17:20:02.684242Z"
    }
   },
   "outputs": [
    {
     "name": "stdout",
     "output_type": "stream",
     "text": [
      "******Abertura******\n",
      "SAMPLE SHAPE: (22, 130, 64, 1)\n"
     ]
    },
    {
     "data": {
      "image/png": "[encoded data removed]",
      "text/plain": [
       "<Figure size 864x288 with 1 Axes>"
      ]
     },
     "metadata": {
      "needs_background": "light"
     },
     "output_type": "display_data"
    },
    {
     "name": "stdout",
     "output_type": "stream",
     "text": [
      "*******Bloco1*******\n",
      "SAMPLE SHAPE: (203, 130, 64, 1)\n"
     ]
    },
    {
     "data": {
      "image/png": "[encoded data removed]",
      "text/plain": [
       "<Figure size 864x288 with 1 Axes>"
      ]
     },
     "metadata": {
      "needs_background": "light"
     },
     "output_type": "display_data"
    }
   ],
   "source": [
    "print(\"Abertura\".center(20, '*'))\n",
    "run_model([\"mel_spec\"], \"../data/globo/7822663.wav\")\n",
    "print(\"Bloco1\".center(20, '*'))\n",
    "run_model([\"mel_spec\"],\"../data/globo/7957359.wav\")"
   ]
  },
  {
   "cell_type": "markdown",
   "metadata": {
    "execution": {
     "iopub.execute_input": "2020-09-04T13:27:03.632198Z",
     "iopub.status.busy": "2020-09-04T13:27:03.631921Z",
     "iopub.status.idle": "2020-09-04T13:27:03.681992Z",
     "shell.execute_reply": "2020-09-04T13:27:03.681300Z",
     "shell.execute_reply.started": "2020-09-04T13:27:03.632173Z"
    }
   },
   "source": [
    "<a id=\"mel_spec_zcr\"></a>\n",
    "#### MEL SPEC + ZCR\n",
    "> Mel Spec foi gerado utilizando 20 faixas"
   ]
  },
  {
   "cell_type": "markdown",
   "metadata": {},
   "source": [
    "* Novela: A Favorita"
   ]
  },
  {
   "cell_type": "code",
   "execution_count": 12,
   "metadata": {
    "execution": {
     "iopub.execute_input": "2020-09-17T17:20:29.710447Z",
     "iopub.status.busy": "2020-09-17T17:20:29.710154Z",
     "iopub.status.idle": "2020-09-17T17:21:00.819834Z",
     "shell.execute_reply": "2020-09-17T17:21:00.819284Z",
     "shell.execute_reply.started": "2020-09-17T17:20:29.710427Z"
    }
   },
   "outputs": [
    {
     "name": "stdout",
     "output_type": "stream",
     "text": [
      "******Abertura******\n",
      "SAMPLE SHAPE: (20, 130, 65, 1)\n"
     ]
    },
    {
     "data": {
      "image/png": "[encoded data removed]",
      "text/plain": [
       "<Figure size 864x288 with 1 Axes>"
      ]
     },
     "metadata": {
      "needs_background": "light"
     },
     "output_type": "display_data"
    },
    {
     "name": "stdout",
     "output_type": "stream",
     "text": [
      "*******Bloco1*******\n",
      "SAMPLE SHAPE: (239, 130, 65, 1)\n",
      "WARNING:tensorflow:5 out of the last 18 calls to <function Model.make_predict_function.<locals>.predict_function at 0x7fdd71bf2820> triggered tf.function retracing. Tracing is expensive and the excessive number of tracings could be due to (1) creating @tf.function repeatedly in a loop, (2) passing tensors with different shapes, (3) passing Python objects instead of tensors. For (1), please define your @tf.function outside of the loop. For (2), @tf.function has experimental_relax_shapes=True option that relaxes argument shapes that can avoid unnecessary retracing. For (3), please refer to https://www.tensorflow.org/tutorials/customization/performance#python_or_tensor_args and https://www.tensorflow.org/api_docs/python/tf/function for  more details.\n"
     ]
    },
    {
     "data": {
      "image/png": "[encoded data removed]",
      "text/plain": [
       "<Figure size 864x288 with 1 Axes>"
      ]
     },
     "metadata": {
      "needs_background": "light"
     },
     "output_type": "display_data"
    }
   ],
   "source": [
    "print(\"Abertura\".center(20, '*'))\n",
    "run_model([\"mel_spec\",\"zcr\"], '../data/globo/8701320.wav')\n",
    "print(\"Bloco1\".center(20, '*'))\n",
    "run_model([\"mel_spec\",\"zcr\"],'../data/globo/949809.wav')"
   ]
  },
  {
   "cell_type": "markdown",
   "metadata": {
    "execution": {
     "iopub.execute_input": "2020-09-04T14:05:20.612755Z",
     "iopub.status.busy": "2020-09-04T14:05:20.612470Z",
     "iopub.status.idle": "2020-09-04T14:05:20.662006Z",
     "shell.execute_reply": "2020-09-04T14:05:20.660992Z",
     "shell.execute_reply.started": "2020-09-04T14:05:20.612732Z"
    }
   },
   "source": [
    "* Novela: Órfões da Terra"
   ]
  },
  {
   "cell_type": "code",
   "execution_count": null,
   "metadata": {
    "execution": {
     "iopub.execute_input": "2020-09-17T17:21:00.821079Z",
     "iopub.status.busy": "2020-09-17T17:21:00.820887Z"
    }
   },
   "outputs": [
    {
     "name": "stdout",
     "output_type": "stream",
     "text": [
      "******Abertura******\n",
      "SAMPLE SHAPE: (22, 130, 65, 1)\n"
     ]
    },
    {
     "data": {
      "image/png": "[encoded data removed]",
      "text/plain": [
       "<Figure size 864x288 with 1 Axes>"
      ]
     },
     "metadata": {
      "needs_background": "light"
     },
     "output_type": "display_data"
    },
    {
     "name": "stdout",
     "output_type": "stream",
     "text": [
      "*******Bloco1*******\n"
     ]
    }
   ],
   "source": [
    "print(\"Abertura\".center(20, '*'))\n",
    "run_model([\"mel_spec\",\"zcr\"], \"../data/globo/7822663.wav\")\n",
    "print(\"Bloco1\".center(20, '*'))\n",
    "run_model([\"mel_spec\",\"zcr\"],\"../data/globo/7957359.wav\")"
   ]
  },
  {
   "cell_type": "markdown",
   "metadata": {
    "execution": {
     "iopub.execute_input": "2020-09-04T13:27:03.632198Z",
     "iopub.status.busy": "2020-09-04T13:27:03.631921Z",
     "iopub.status.idle": "2020-09-04T13:27:03.681992Z",
     "shell.execute_reply": "2020-09-04T13:27:03.681300Z",
     "shell.execute_reply.started": "2020-09-04T13:27:03.632173Z"
    }
   },
   "source": [
    "<a id=\"mel_spec_zcr_centroid\"></a>\n",
    "#### MEL SPEC + ZCR + CENTROID\n",
    "> Mel Spec foi gerado utilizando 20 faixas"
   ]
  },
  {
   "cell_type": "markdown",
   "metadata": {},
   "source": [
    "* Novela: A Favorita"
   ]
  },
  {
   "cell_type": "code",
   "execution_count": null,
   "metadata": {},
   "outputs": [],
   "source": [
    "print(\"Abertura\".center(20, '*'))\n",
    "run_model([\"mel_spec\",\"centroid\",\"zcr\"], '../data/globo/8701320.wav')\n",
    "print(\"Bloco1\".center(20, '*'))\n",
    "run_model([\"mel_spec\",\"centroid\",\"zcr\"],'../data/globo/949809.wav')"
   ]
  },
  {
   "cell_type": "markdown",
   "metadata": {
    "execution": {
     "iopub.execute_input": "2020-09-04T14:05:20.612755Z",
     "iopub.status.busy": "2020-09-04T14:05:20.612470Z",
     "iopub.status.idle": "2020-09-04T14:05:20.662006Z",
     "shell.execute_reply": "2020-09-04T14:05:20.660992Z",
     "shell.execute_reply.started": "2020-09-04T14:05:20.612732Z"
    }
   },
   "source": [
    "* Novela: Órfões da Terra"
   ]
  },
  {
   "cell_type": "code",
   "execution_count": null,
   "metadata": {},
   "outputs": [],
   "source": [
    "print(\"Abertura\".center(20, '*'))\n",
    "run_model([\"mel_spec\",\"centroid\",\"zcr\"], \"../data/globo/7822663.wav\")\n",
    "print(\"Bloco1\".center(20, '*'))\n",
    "run_model([\"mel_spec\",\"centroid\",\"zcr\"],\"../data/globo/7957359.wav\")"
   ]
  },
  {
   "cell_type": "code",
   "execution_count": null,
   "metadata": {},
   "outputs": [],
   "source": []
  }
 ],
 "metadata": {
  "kernelspec": {
   "display_name": "Python 3.8.3 64-bit ('base': conda)",
   "language": "python",
   "name": "python38364bitbaseconda5ca1ac97bac24304b1ddb15e5b86f91d"
  },
  "language_info": {
   "codemirror_mode": {
    "name": "ipython",
    "version": 3
   },
   "file_extension": ".py",
   "mimetype": "text/x-python",
   "name": "python",
   "nbconvert_exporter": "python",
   "pygments_lexer": "ipython3",
   "version": "3.8.3"
  }
 },
 "nbformat": 4,
 "nbformat_minor": 4
}

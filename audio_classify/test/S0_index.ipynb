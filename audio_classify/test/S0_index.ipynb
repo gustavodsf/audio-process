{
 "cells": [
  {
   "cell_type": "markdown",
   "metadata": {},
   "source": [
    "## Verificação do modelo de classificação"
   ]
  },
  {
   "cell_type": "markdown",
   "metadata": {},
   "source": [
    "#### Código Reutilizado"
   ]
  },
  {
   "cell_type": "markdown",
   "metadata": {},
   "source": [
    "1. Funções Base ([ipynb](S0_util.ipynb))"
   ]
  },
  {
   "cell_type": "markdown",
   "metadata": {},
   "source": [
    "#### Análise Exploratória"
   ]
  },
  {
   "cell_type": "markdown",
   "metadata": {},
   "source": [
    "1. Análise Exploratório Música ([ipynb](S1_aed_music.ipynb))\n",
    "1. Análise Exploratória Fala ([ipynb](A2_aed_speech.ipynb))\n",
    "1. Verifica a diferença entre fala e música ([ipynb](A2_model_music_or_speech_check_data.ipynb))"
   ]
  },
  {
   "cell_type": "markdown",
   "metadata": {},
   "source": [
    "#### Feature Engineering"
   ]
  },
  {
   "cell_type": "markdown",
   "metadata": {},
   "source": [
    "1. Verificação do segmento([ipynb](S2_check_segment_plots.ipynb))\n",
    "1. Criação de Features([ipynb](S2_mount_features.ipynb))"
   ]
  },
  {
   "cell_type": "markdown",
   "metadata": {
    "execution": {
     "iopub.execute_input": "2020-09-20T13:45:39.319695Z",
     "iopub.status.busy": "2020-09-20T13:45:39.319439Z",
     "iopub.status.idle": "2020-09-20T13:45:39.322585Z",
     "shell.execute_reply": "2020-09-20T13:45:39.321795Z",
     "shell.execute_reply.started": "2020-09-20T13:45:39.319667Z"
    }
   },
   "source": [
    "#### Test Model"
   ]
  },
  {
   "cell_type": "markdown",
   "metadata": {},
   "source": [
    "1. Verificação do segmento([ipynb](S2_check_segment_plots.ipynb))\n",
    "1. Criação de Features([ipynb](S2_mount_features.ipynb))"
   ]
  },
  {
   "cell_type": "markdown",
   "metadata": {
    "execution": {
     "iopub.execute_input": "2020-09-21T13:03:37.632741Z",
     "iopub.status.busy": "2020-09-21T13:03:37.632322Z",
     "iopub.status.idle": "2020-09-21T13:03:37.636674Z",
     "shell.execute_reply": "2020-09-21T13:03:37.635635Z",
     "shell.execute_reply.started": "2020-09-21T13:03:37.632696Z"
    }
   },
   "source": [
    "#### Run Model"
   ]
  },
  {
   "cell_type": "markdown",
   "metadata": {
    "execution": {
     "iopub.execute_input": "2020-09-21T13:04:39.456142Z",
     "iopub.status.busy": "2020-09-21T13:04:39.455901Z",
     "iopub.status.idle": "2020-09-21T13:04:39.461518Z",
     "shell.execute_reply": "2020-09-21T13:04:39.460412Z",
     "shell.execute_reply.started": "2020-09-21T13:04:39.456125Z"
    }
   },
   "source": [
    "1. Modelo utilizando apenas a base de dados Música e Fale em português.([ipynb](S3_run_mlp_model_v1.ipynb))\n",
    "1. Modelo utilizando a base dados anterior mais a base de dados do youtube.([ipynb](S3_run_mlp_model_v2.ipynb))\n",
    "1. Modelo que foi reduzido do tamanho do segmento, também do tamanho da rede, aumento do conjutno de validação.([ipynb](S3_run_mlp_model_v3.ipynb))\n",
    "1. Modelo treinado utilizando todos os dados, apenas os dados da base antiga e da base do youtube.([ipynb](S3_run_mlp_model_v4.ipynb))\n",
    "1. Modelo treinado utilizando o mel espectograma da mesma forma que do site do tensorflow.([ipynb](S3_run_mlp_model_v5.ipynb))"
   ]
  }
 ],
 "metadata": {
  "kernelspec": {
   "display_name": "Python 3",
   "language": "python",
   "name": "python3"
  },
  "language_info": {
   "codemirror_mode": {
    "name": "ipython",
    "version": 3
   },
   "file_extension": ".py",
   "mimetype": "text/x-python",
   "name": "python",
   "nbconvert_exporter": "python",
   "pygments_lexer": "ipython3",
   "version": "3.8.3"
  }
 },
 "nbformat": 4,
 "nbformat_minor": 4
}

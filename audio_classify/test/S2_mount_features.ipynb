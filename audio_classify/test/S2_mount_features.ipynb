{
 "cells": [
  {
   "cell_type": "markdown",
   "metadata": {
    "execution": {
     "iopub.execute_input": "2020-08-28T13:53:16.664723Z",
     "iopub.status.busy": "2020-08-28T13:53:16.664482Z",
     "iopub.status.idle": "2020-08-28T13:53:16.689102Z",
     "shell.execute_reply": "2020-08-28T13:53:16.688484Z",
     "shell.execute_reply.started": "2020-08-28T13:53:16.664702Z"
    }
   },
   "source": [
    "### Monta o conjunto de features"
   ]
  },
  {
   "cell_type": "markdown",
   "metadata": {},
   "source": [
    "### Índice\n",
    "1. [Importe das bibliotecas](#import)\n",
    "1. [Constantes](#constants)\n",
    "1. [Abrindo os arquivos de áudio](#open_files)\n",
    "1. [Retorno Onset_Strengh](#onset_strength)\n",
    "1. [Retorno MFCC](#mfcc) \n",
    "1. [Retorno Spectral Centroid](#spectral_centroid)\n",
    "1. [Retorno RMS](#rms)\n",
    "1. [Retorno ZCR](#zcr)\n",
    "1. [Retorno Mel Spectogram](#mel_spec)\n",
    "1. [Retorno do Tempogram](#tempogram)\n",
    "1. [Retorno do Recurrence Matrix](#recurrence)"
   ]
  },
  {
   "cell_type": "markdown",
   "metadata": {},
   "source": [
    "<a id=\"import\"></a>\n",
    "* Importe Bibliotecas"
   ]
  },
  {
   "cell_type": "code",
   "execution_count": 20,
   "metadata": {
    "execution": {
     "iopub.execute_input": "2020-09-02T22:28:34.940291Z",
     "iopub.status.busy": "2020-09-02T22:28:34.940011Z",
     "iopub.status.idle": "2020-09-02T22:28:34.993552Z",
     "shell.execute_reply": "2020-09-02T22:28:34.992983Z",
     "shell.execute_reply.started": "2020-09-02T22:28:34.940267Z"
    }
   },
   "outputs": [
    {
     "name": "stdout",
     "output_type": "stream",
     "text": [
      "The autoreload extension is already loaded. To reload it, use:\n",
      "  %reload_ext autoreload\n"
     ]
    }
   ],
   "source": [
    "import librosa\n",
    "import numpy as np\n",
    "\n",
    "%load_ext autoreload\n",
    "%autoreload 2\n",
    "%run ./S0_util.ipynb"
   ]
  },
  {
   "cell_type": "markdown",
   "metadata": {},
   "source": [
    "<a id=\"constants\"></a>\n",
    "* Constantes"
   ]
  },
  {
   "cell_type": "code",
   "execution_count": 21,
   "metadata": {
    "execution": {
     "iopub.execute_input": "2020-09-02T22:28:34.994948Z",
     "iopub.status.busy": "2020-09-02T22:28:34.994753Z",
     "iopub.status.idle": "2020-09-02T22:28:35.016718Z",
     "shell.execute_reply": "2020-09-02T22:28:35.016175Z",
     "shell.execute_reply.started": "2020-09-02T22:28:34.994930Z"
    }
   },
   "outputs": [],
   "source": [
    "SPEECH_PATH = \"../data/speechs\"    \n",
    "MUSIC_PATH = \"../data/music\"    \n",
    "GLOBO_PATH = \"../data/globo\"\n",
    "SEGMENT_DURATION =  3\n",
    "SAMPLE_RATE = 44100\n",
    "NUM_MFCC = 13\n",
    "HOP_LENGTH = 512\n",
    "FRAME_LENGTH = 2048\n",
    "SAMPLES_PER_SEGMENT =  SAMPLE_RATE * SEGMENT_DURATION"
   ]
  },
  {
   "cell_type": "markdown",
   "metadata": {
    "execution": {
     "iopub.execute_input": "2020-08-28T13:58:26.552271Z",
     "iopub.status.busy": "2020-08-28T13:58:26.552014Z",
     "iopub.status.idle": "2020-08-28T13:58:26.580035Z",
     "shell.execute_reply": "2020-08-28T13:58:26.579106Z",
     "shell.execute_reply.started": "2020-08-28T13:58:26.552248Z"
    }
   },
   "source": [
    "<a id=\"open_files\"></a>\n",
    "* Abre arquivos de cada tipo para verificar o retorno das características"
   ]
  },
  {
   "cell_type": "code",
   "execution_count": 22,
   "metadata": {
    "execution": {
     "iopub.execute_input": "2020-09-02T22:28:35.018387Z",
     "iopub.status.busy": "2020-09-02T22:28:35.018203Z",
     "iopub.status.idle": "2020-09-02T22:28:36.416703Z",
     "shell.execute_reply": "2020-09-02T22:28:36.416105Z",
     "shell.execute_reply.started": "2020-09-02T22:28:35.018370Z"
    }
   },
   "outputs": [],
   "source": [
    "### MUSCIC\n",
    "music1  = \"../data/music/blues/blues.00000.wav\"\n",
    "music1, _ = librosa.load(music1, sr=SAMPLE_RATE)\n",
    "music1 =  music1\n",
    "\n",
    "### NOVELA\n",
    "soap_fav_intro = \"../data/globo/8701320.wav\"\n",
    "soap_intro1, _ = librosa.load(soap_fav_intro, sr=SAMPLE_RATE)\n",
    "soap_intro1 =  soap_intro1\n",
    "\n",
    "### FALA\n",
    "speech1 = \"../data/speechs/sample-50.wav\"\n",
    "speech1, _ = librosa.load(speech1, sr=SAMPLE_RATE)\n",
    "speech1 =  speech1"
   ]
  },
  {
   "cell_type": "markdown",
   "metadata": {
    "execution": {
     "iopub.execute_input": "2020-08-28T14:05:32.255309Z",
     "iopub.status.busy": "2020-08-28T14:05:32.255026Z",
     "iopub.status.idle": "2020-08-28T14:05:32.282328Z",
     "shell.execute_reply": "2020-08-28T14:05:32.281211Z",
     "shell.execute_reply.started": "2020-08-28T14:05:32.255286Z"
    }
   },
   "source": [
    "<a id=\"onset_strength\"></a>\n",
    "* Verifica o shape do retorno do `onset_strength`"
   ]
  },
  {
   "cell_type": "markdown",
   "metadata": {},
   "source": [
    "> Music"
   ]
  },
  {
   "cell_type": "code",
   "execution_count": 23,
   "metadata": {
    "execution": {
     "iopub.execute_input": "2020-09-02T22:28:36.418358Z",
     "iopub.status.busy": "2020-09-02T22:28:36.418081Z",
     "iopub.status.idle": "2020-09-02T22:28:36.510656Z",
     "shell.execute_reply": "2020-09-02T22:28:36.509962Z",
     "shell.execute_reply.started": "2020-09-02T22:28:36.418338Z"
    }
   },
   "outputs": [
    {
     "name": "stdout",
     "output_type": "stream",
     "text": [
      "ALL: (2586,)\n",
      "SEG: (431,)\n"
     ]
    }
   ],
   "source": [
    "onset = librosa.onset.onset_strength(y=music1, sr=SAMPLE_RATE)\n",
    "print(\"ALL: {}\".format(onset.shape))\n",
    "onset = librosa.onset.onset_strength(y=music1[0:SAMPLES_PER_SEGMENT], sr=SAMPLE_RATE)\n",
    "print(\"SEG: {}\".format(onset.shape))"
   ]
  },
  {
   "cell_type": "markdown",
   "metadata": {},
   "source": [
    "> Soap popera"
   ]
  },
  {
   "cell_type": "code",
   "execution_count": 67,
   "metadata": {
    "execution": {
     "iopub.execute_input": "2020-09-02T22:35:21.465672Z",
     "iopub.status.busy": "2020-09-02T22:35:21.465411Z",
     "iopub.status.idle": "2020-09-02T22:35:21.652225Z",
     "shell.execute_reply": "2020-09-02T22:35:21.651629Z",
     "shell.execute_reply.started": "2020-09-02T22:35:21.465650Z"
    }
   },
   "outputs": [
    {
     "name": "stdout",
     "output_type": "stream",
     "text": [
      "ALL: (1, 5311)\n",
      "SEG: (1, 431)\n"
     ]
    }
   ],
   "source": [
    "onset = librosa.onset.onset_strength(y=soap_intro1, sr=SAMPLE_RATE)\n",
    "print(\"ALL: {}\".format(onset[np.newaxis, ...].shape))\n",
    "onset = librosa.onset.onset_strength(y=soap_intro1[0:SAMPLES_PER_SEGMENT], sr=SAMPLE_RATE)\n",
    "print(\"SEG: {}\".format(onset[np.newaxis, ...].shape))"
   ]
  },
  {
   "cell_type": "markdown",
   "metadata": {},
   "source": [
    "> Speech"
   ]
  },
  {
   "cell_type": "code",
   "execution_count": 68,
   "metadata": {
    "execution": {
     "iopub.execute_input": "2020-09-02T22:35:21.947063Z",
     "iopub.status.busy": "2020-09-02T22:35:21.946792Z",
     "iopub.status.idle": "2020-09-02T22:35:22.029101Z",
     "shell.execute_reply": "2020-09-02T22:35:22.028313Z",
     "shell.execute_reply.started": "2020-09-02T22:35:21.947040Z"
    }
   },
   "outputs": [
    {
     "name": "stdout",
     "output_type": "stream",
     "text": [
      "ALL: (1, 1151)\n",
      "SEG: (1, 431)\n"
     ]
    }
   ],
   "source": [
    "onset = librosa.onset.onset_strength(y=speech1, sr=SAMPLE_RATE)\n",
    "print(\"ALL: {}\".format(onset[np.newaxis, ...].shape))\n",
    "onset = librosa.onset.onset_strength(y=speech1[0:SAMPLES_PER_SEGMENT], sr=SAMPLE_RATE)\n",
    "print(\"SEG: {}\".format(onset[np.newaxis, ...].shape))"
   ]
  },
  {
   "cell_type": "markdown",
   "metadata": {},
   "source": [
    "* Verifica o shape do retorno do `MFCC`"
   ]
  },
  {
   "cell_type": "markdown",
   "metadata": {},
   "source": [
    "> Music"
   ]
  },
  {
   "cell_type": "code",
   "execution_count": 26,
   "metadata": {
    "execution": {
     "iopub.execute_input": "2020-09-02T22:28:36.760532Z",
     "iopub.status.busy": "2020-09-02T22:28:36.760272Z",
     "iopub.status.idle": "2020-09-02T22:28:36.882842Z",
     "shell.execute_reply": "2020-09-02T22:28:36.882129Z",
     "shell.execute_reply.started": "2020-09-02T22:28:36.760507Z"
    }
   },
   "outputs": [
    {
     "name": "stdout",
     "output_type": "stream",
     "text": [
      "ALL: (20, 2586)\n",
      "SEG: (20, 431)\n"
     ]
    }
   ],
   "source": [
    "mfcc = librosa.feature.mfcc(music1, sr=SAMPLE_RATE)\n",
    "print(\"ALL: {}\".format(mfcc.shape))\n",
    "mfcc = librosa.feature.mfcc(y=music1[0:SAMPLES_PER_SEGMENT], sr=SAMPLE_RATE)\n",
    "print(\"SEG: {}\".format(mfcc.shape))"
   ]
  },
  {
   "cell_type": "markdown",
   "metadata": {},
   "source": [
    "> Soap popera"
   ]
  },
  {
   "cell_type": "code",
   "execution_count": 27,
   "metadata": {
    "execution": {
     "iopub.execute_input": "2020-09-02T22:28:36.884304Z",
     "iopub.status.busy": "2020-09-02T22:28:36.884050Z",
     "iopub.status.idle": "2020-09-02T22:28:37.062553Z",
     "shell.execute_reply": "2020-09-02T22:28:37.061978Z",
     "shell.execute_reply.started": "2020-09-02T22:28:36.884278Z"
    }
   },
   "outputs": [
    {
     "name": "stdout",
     "output_type": "stream",
     "text": [
      "ALL: (20, 5311)\n",
      "SEG: (20, 431)\n"
     ]
    }
   ],
   "source": [
    "mfcc = librosa.feature.mfcc(soap_intro1, sr=SAMPLE_RATE)\n",
    "print(\"ALL: {}\".format(mfcc.shape))\n",
    "mfcc = librosa.feature.mfcc(y=soap_intro1[0:SAMPLES_PER_SEGMENT], sr=SAMPLE_RATE)\n",
    "print(\"SEG: {}\".format(mfcc.shape))"
   ]
  },
  {
   "cell_type": "markdown",
   "metadata": {},
   "source": [
    "> Speech"
   ]
  },
  {
   "cell_type": "code",
   "execution_count": 28,
   "metadata": {
    "execution": {
     "iopub.execute_input": "2020-09-02T22:28:37.065986Z",
     "iopub.status.busy": "2020-09-02T22:28:37.065749Z",
     "iopub.status.idle": "2020-09-02T22:28:37.145162Z",
     "shell.execute_reply": "2020-09-02T22:28:37.144522Z",
     "shell.execute_reply.started": "2020-09-02T22:28:37.065967Z"
    }
   },
   "outputs": [
    {
     "name": "stdout",
     "output_type": "stream",
     "text": [
      "ALL: (20, 1151)\n",
      "SEG: (20, 431)\n"
     ]
    }
   ],
   "source": [
    "mfcc = librosa.feature.mfcc(speech1, sr=SAMPLE_RATE)\n",
    "print(\"ALL: {}\".format(mfcc.shape))\n",
    "mfcc = librosa.feature.mfcc(y=speech1[0:SAMPLES_PER_SEGMENT], sr=SAMPLE_RATE)\n",
    "print(\"SEG: {}\".format(mfcc.shape))"
   ]
  },
  {
   "cell_type": "markdown",
   "metadata": {},
   "source": [
    "* Verifica o shape do retorno do `Spectral Centroid`"
   ]
  },
  {
   "cell_type": "markdown",
   "metadata": {},
   "source": [
    "> Music"
   ]
  },
  {
   "cell_type": "code",
   "execution_count": 29,
   "metadata": {
    "execution": {
     "iopub.execute_input": "2020-09-02T22:28:37.147883Z",
     "iopub.status.busy": "2020-09-02T22:28:37.147647Z",
     "iopub.status.idle": "2020-09-02T22:28:37.284148Z",
     "shell.execute_reply": "2020-09-02T22:28:37.283449Z",
     "shell.execute_reply.started": "2020-09-02T22:28:37.147862Z"
    }
   },
   "outputs": [
    {
     "name": "stdout",
     "output_type": "stream",
     "text": [
      "ALL: (1, 2586)\n",
      "SEG: (1, 431)\n"
     ]
    }
   ],
   "source": [
    "centroid = librosa.feature.spectral_centroid(music1+0.01, sr=SAMPLE_RATE)\n",
    "print(\"ALL: {}\".format(centroid.shape))\n",
    "centroid = librosa.feature.spectral_centroid(y=music1[0:SAMPLES_PER_SEGMENT]+0.01, sr=SAMPLE_RATE)\n",
    "print(\"SEG: {}\".format(centroid.shape))"
   ]
  },
  {
   "cell_type": "markdown",
   "metadata": {},
   "source": [
    "> Soap popera"
   ]
  },
  {
   "cell_type": "code",
   "execution_count": 30,
   "metadata": {
    "execution": {
     "iopub.execute_input": "2020-09-02T22:28:37.285304Z",
     "iopub.status.busy": "2020-09-02T22:28:37.285034Z",
     "iopub.status.idle": "2020-09-02T22:28:37.533895Z",
     "shell.execute_reply": "2020-09-02T22:28:37.533292Z",
     "shell.execute_reply.started": "2020-09-02T22:28:37.285282Z"
    }
   },
   "outputs": [
    {
     "name": "stdout",
     "output_type": "stream",
     "text": [
      "ALL: (1, 5311)\n",
      "SEG: (1, 431)\n"
     ]
    }
   ],
   "source": [
    "centroid = librosa.feature.spectral_centroid(soap_intro1+0.01, sr=SAMPLE_RATE)\n",
    "print(\"ALL: {}\".format(centroid.shape))\n",
    "centroid = librosa.feature.spectral_centroid(y=soap_intro1[0:SAMPLES_PER_SEGMENT]+0.01, sr=SAMPLE_RATE)\n",
    "print(\"SEG: {}\".format(centroid.shape))"
   ]
  },
  {
   "cell_type": "markdown",
   "metadata": {},
   "source": [
    "> Speech"
   ]
  },
  {
   "cell_type": "code",
   "execution_count": 31,
   "metadata": {
    "execution": {
     "iopub.execute_input": "2020-09-02T22:28:37.535221Z",
     "iopub.status.busy": "2020-09-02T22:28:37.534910Z",
     "iopub.status.idle": "2020-09-02T22:28:37.626873Z",
     "shell.execute_reply": "2020-09-02T22:28:37.626315Z",
     "shell.execute_reply.started": "2020-09-02T22:28:37.535194Z"
    }
   },
   "outputs": [
    {
     "name": "stdout",
     "output_type": "stream",
     "text": [
      "ALL: (1, 1151)\n",
      "SEG: (1, 431)\n"
     ]
    }
   ],
   "source": [
    "centroid = librosa.feature.spectral_centroid(speech1+0.01, sr=SAMPLE_RATE)\n",
    "print(\"ALL: {}\".format(centroid.shape))\n",
    "centroid = librosa.feature.spectral_centroid(y=speech1[0:SAMPLES_PER_SEGMENT]+0.01, sr=SAMPLE_RATE)\n",
    "print(\"SEG: {}\".format(centroid.shape))"
   ]
  },
  {
   "cell_type": "markdown",
   "metadata": {},
   "source": [
    "<a id=\"rms\"></a>\n",
    "* Verifica o shape do retorno do `RMS`"
   ]
  },
  {
   "cell_type": "markdown",
   "metadata": {},
   "source": [
    "> Music"
   ]
  },
  {
   "cell_type": "code",
   "execution_count": 32,
   "metadata": {
    "execution": {
     "iopub.execute_input": "2020-09-02T22:28:37.628094Z",
     "iopub.status.busy": "2020-09-02T22:28:37.627887Z",
     "iopub.status.idle": "2020-09-02T22:28:37.680352Z",
     "shell.execute_reply": "2020-09-02T22:28:37.679593Z",
     "shell.execute_reply.started": "2020-09-02T22:28:37.628075Z"
    }
   },
   "outputs": [
    {
     "name": "stdout",
     "output_type": "stream",
     "text": [
      "ALL: (1, 2586)\n",
      "SEG: (1, 431)\n"
     ]
    }
   ],
   "source": [
    "rms = librosa.feature.rms(y=music1, frame_length=FRAME_LENGTH, hop_length=HOP_LENGTH, center=True)\n",
    "print(\"ALL: {}\".format(rms.shape))\n",
    "rms = librosa.feature.rms(y=music1[0:SAMPLES_PER_SEGMENT], frame_length=FRAME_LENGTH, hop_length=HOP_LENGTH, center=True)\n",
    "print(\"SEG: {}\".format(rms.shape))"
   ]
  },
  {
   "cell_type": "markdown",
   "metadata": {},
   "source": [
    "> Soap popera"
   ]
  },
  {
   "cell_type": "code",
   "execution_count": 33,
   "metadata": {
    "execution": {
     "iopub.execute_input": "2020-09-02T22:28:37.681894Z",
     "iopub.status.busy": "2020-09-02T22:28:37.681635Z",
     "iopub.status.idle": "2020-09-02T22:28:37.757457Z",
     "shell.execute_reply": "2020-09-02T22:28:37.756714Z",
     "shell.execute_reply.started": "2020-09-02T22:28:37.681865Z"
    }
   },
   "outputs": [
    {
     "name": "stdout",
     "output_type": "stream",
     "text": [
      "ALL: (1, 5311)\n",
      "SEG: (1, 431)\n"
     ]
    }
   ],
   "source": [
    "rms = librosa.feature.rms(y=soap_intro1, frame_length=FRAME_LENGTH, hop_length=HOP_LENGTH, center=True)\n",
    "print(\"ALL: {}\".format(rms.shape))\n",
    "rms = librosa.feature.rms(y=soap_intro1[0:SAMPLES_PER_SEGMENT], frame_length=FRAME_LENGTH, hop_length=HOP_LENGTH, center=True)\n",
    "print(\"SEG: {}\".format(rms.shape))"
   ]
  },
  {
   "cell_type": "markdown",
   "metadata": {},
   "source": [
    "> Speech"
   ]
  },
  {
   "cell_type": "code",
   "execution_count": 34,
   "metadata": {
    "execution": {
     "iopub.execute_input": "2020-09-02T22:28:37.759010Z",
     "iopub.status.busy": "2020-09-02T22:28:37.758688Z",
     "iopub.status.idle": "2020-09-02T22:28:37.796507Z",
     "shell.execute_reply": "2020-09-02T22:28:37.795574Z",
     "shell.execute_reply.started": "2020-09-02T22:28:37.758985Z"
    }
   },
   "outputs": [
    {
     "name": "stdout",
     "output_type": "stream",
     "text": [
      "ALL: (1, 1151)\n",
      "SEG: (1, 431)\n"
     ]
    }
   ],
   "source": [
    "rms = librosa.feature.rms(y=speech1, frame_length=FRAME_LENGTH, hop_length=HOP_LENGTH, center=True)\n",
    "print(\"ALL: {}\".format(rms.shape))\n",
    "rms = librosa.feature.rms(y=speech1[0:SAMPLES_PER_SEGMENT], frame_length=FRAME_LENGTH, hop_length=HOP_LENGTH, center=True)\n",
    "print(\"SEG: {}\".format(rms.shape))"
   ]
  },
  {
   "cell_type": "markdown",
   "metadata": {},
   "source": [
    "<a id=\"zcr\"></a>\n",
    "* Verifica o shape do retorno do `Zero Crossing Rate`"
   ]
  },
  {
   "cell_type": "markdown",
   "metadata": {},
   "source": [
    "> Music"
   ]
  },
  {
   "cell_type": "code",
   "execution_count": 35,
   "metadata": {
    "execution": {
     "iopub.execute_input": "2020-09-02T22:28:37.797994Z",
     "iopub.status.busy": "2020-09-02T22:28:37.797659Z",
     "iopub.status.idle": "2020-09-02T22:28:37.907575Z",
     "shell.execute_reply": "2020-09-02T22:28:37.906979Z",
     "shell.execute_reply.started": "2020-09-02T22:28:37.797951Z"
    }
   },
   "outputs": [
    {
     "name": "stdout",
     "output_type": "stream",
     "text": [
      "ALL: (1, 2586)\n",
      "SEG: (1, 431)\n"
     ]
    }
   ],
   "source": [
    "zcr = librosa.feature.zero_crossing_rate(y=music1 + 0.01)\n",
    "print(\"ALL: {}\".format(zcr.shape))\n",
    "zcr = librosa.feature.zero_crossing_rate(y=music1[0:SAMPLES_PER_SEGMENT] + 0.01)\n",
    "print(\"SEG: {}\".format(zcr.shape))"
   ]
  },
  {
   "cell_type": "markdown",
   "metadata": {},
   "source": [
    "> Soap popera"
   ]
  },
  {
   "cell_type": "code",
   "execution_count": 36,
   "metadata": {
    "execution": {
     "iopub.execute_input": "2020-09-02T22:28:37.908766Z",
     "iopub.status.busy": "2020-09-02T22:28:37.908427Z",
     "iopub.status.idle": "2020-09-02T22:28:38.118765Z",
     "shell.execute_reply": "2020-09-02T22:28:38.118047Z",
     "shell.execute_reply.started": "2020-09-02T22:28:37.908737Z"
    }
   },
   "outputs": [
    {
     "name": "stdout",
     "output_type": "stream",
     "text": [
      "ALL: (1, 5311)\n",
      "SEG: (1, 431)\n"
     ]
    }
   ],
   "source": [
    "zcr = librosa.feature.zero_crossing_rate(y=soap_intro1 + 0.01)\n",
    "print(\"ALL: {}\".format(zcr.shape))\n",
    "zcr = librosa.feature.zero_crossing_rate(y=soap_intro1[0:SAMPLES_PER_SEGMENT] + 0.01)\n",
    "print(\"SEG: {}\".format(zcr.shape))"
   ]
  },
  {
   "cell_type": "markdown",
   "metadata": {},
   "source": [
    "> Speech"
   ]
  },
  {
   "cell_type": "code",
   "execution_count": 37,
   "metadata": {
    "execution": {
     "iopub.execute_input": "2020-09-02T22:28:38.120084Z",
     "iopub.status.busy": "2020-09-02T22:28:38.119711Z",
     "iopub.status.idle": "2020-09-02T22:28:38.182156Z",
     "shell.execute_reply": "2020-09-02T22:28:38.181481Z",
     "shell.execute_reply.started": "2020-09-02T22:28:38.120060Z"
    }
   },
   "outputs": [
    {
     "name": "stdout",
     "output_type": "stream",
     "text": [
      "ALL: (1, 1151)\n",
      "SEG: (1, 431)\n"
     ]
    }
   ],
   "source": [
    "zcr = librosa.feature.zero_crossing_rate(y=speech1 + 0.01)\n",
    "print(\"ALL: {}\".format(zcr.shape))\n",
    "zcr = librosa.feature.zero_crossing_rate(y=speech1[0:SAMPLES_PER_SEGMENT] + 0.01)\n",
    "print(\"SEG: {}\".format(zcr.shape))"
   ]
  },
  {
   "cell_type": "markdown",
   "metadata": {},
   "source": [
    "<a id=\"mel_spec\"></a>\n",
    "* Verifica o shape do retorno do `Mel Spectogram`"
   ]
  },
  {
   "cell_type": "markdown",
   "metadata": {},
   "source": [
    "> Music"
   ]
  },
  {
   "cell_type": "code",
   "execution_count": 38,
   "metadata": {
    "execution": {
     "iopub.execute_input": "2020-09-02T22:28:38.183473Z",
     "iopub.status.busy": "2020-09-02T22:28:38.183243Z",
     "iopub.status.idle": "2020-09-02T22:28:38.294304Z",
     "shell.execute_reply": "2020-09-02T22:28:38.293491Z",
     "shell.execute_reply.started": "2020-09-02T22:28:38.183452Z"
    }
   },
   "outputs": [
    {
     "name": "stdout",
     "output_type": "stream",
     "text": [
      "ALL: (20, 2586)\n",
      "SEG: (20, 431)\n"
     ]
    }
   ],
   "source": [
    "mel = librosa.feature.melspectrogram(y=music1, sr=SAMPLE_RATE, n_mels=20, fmax=10000 , n_fft=FRAME_LENGTH, hop_length=HOP_LENGTH)\n",
    "print(\"ALL: {}\".format(mel.shape))\n",
    "mel = librosa.feature.melspectrogram(y=music1[0:SAMPLES_PER_SEGMENT], sr=SAMPLE_RATE, n_mels=20, fmax=10000 , n_fft=FRAME_LENGTH, hop_length=HOP_LENGTH)\n",
    "print(\"SEG: {}\".format(mel.shape))"
   ]
  },
  {
   "cell_type": "markdown",
   "metadata": {},
   "source": [
    "> Soap popera"
   ]
  },
  {
   "cell_type": "code",
   "execution_count": 39,
   "metadata": {
    "execution": {
     "iopub.execute_input": "2020-09-02T22:28:38.296021Z",
     "iopub.status.busy": "2020-09-02T22:28:38.295630Z",
     "iopub.status.idle": "2020-09-02T22:28:38.458979Z",
     "shell.execute_reply": "2020-09-02T22:28:38.458355Z",
     "shell.execute_reply.started": "2020-09-02T22:28:38.295992Z"
    }
   },
   "outputs": [
    {
     "name": "stdout",
     "output_type": "stream",
     "text": [
      "ALL: (20, 5311)\n",
      "SEG: (20, 431)\n"
     ]
    }
   ],
   "source": [
    "mel = librosa.feature.melspectrogram(y=soap_intro1, sr=SAMPLE_RATE, n_mels=20, fmax=10000 , n_fft=FRAME_LENGTH, hop_length=HOP_LENGTH)\n",
    "print(\"ALL: {}\".format(mel.shape))\n",
    "mel = librosa.feature.melspectrogram(y=soap_intro1[0:SAMPLES_PER_SEGMENT], sr=SAMPLE_RATE, n_mels=20, fmax=10000 , n_fft=FRAME_LENGTH, hop_length=HOP_LENGTH)\n",
    "print(\"SEG: {}\".format(mel.shape))"
   ]
  },
  {
   "cell_type": "markdown",
   "metadata": {},
   "source": [
    "> Speech"
   ]
  },
  {
   "cell_type": "code",
   "execution_count": 40,
   "metadata": {
    "execution": {
     "iopub.execute_input": "2020-09-02T22:28:38.460102Z",
     "iopub.status.busy": "2020-09-02T22:28:38.459842Z",
     "iopub.status.idle": "2020-09-02T22:28:38.527243Z",
     "shell.execute_reply": "2020-09-02T22:28:38.526554Z",
     "shell.execute_reply.started": "2020-09-02T22:28:38.460084Z"
    }
   },
   "outputs": [
    {
     "name": "stdout",
     "output_type": "stream",
     "text": [
      "ALL: (20, 1151)\n",
      "SEG: (20, 431)\n"
     ]
    }
   ],
   "source": [
    "mel = librosa.feature.melspectrogram(y=speech1, sr=SAMPLE_RATE, n_mels=20, fmax=10000 , n_fft=FRAME_LENGTH, hop_length=HOP_LENGTH)\n",
    "print(\"ALL: {}\".format(mel.shape))\n",
    "mel = librosa.feature.melspectrogram(y=speech1[0:SAMPLES_PER_SEGMENT], sr=SAMPLE_RATE, n_mels=20, fmax=10000 , n_fft=FRAME_LENGTH, hop_length=HOP_LENGTH)\n",
    "print(\"SEG: {}\".format(mel.shape))"
   ]
  },
  {
   "cell_type": "markdown",
   "metadata": {},
   "source": [
    "<a id=\"tempo\"></a>\n",
    "* Verifica o shape do retorno do `tempogram`"
   ]
  },
  {
   "cell_type": "markdown",
   "metadata": {},
   "source": [
    "> Music"
   ]
  },
  {
   "cell_type": "code",
   "execution_count": 41,
   "metadata": {
    "execution": {
     "iopub.execute_input": "2020-09-02T22:28:38.528857Z",
     "iopub.status.busy": "2020-09-02T22:28:38.528539Z",
     "iopub.status.idle": "2020-09-02T22:28:38.874127Z",
     "shell.execute_reply": "2020-09-02T22:28:38.873545Z",
     "shell.execute_reply.started": "2020-09-02T22:28:38.528828Z"
    }
   },
   "outputs": [
    {
     "name": "stdout",
     "output_type": "stream",
     "text": [
      "ALL: (384, 2586)\n",
      "SEG: (384, 431)\n"
     ]
    }
   ],
   "source": [
    "oenv = librosa.onset.onset_strength(y=music1, sr=SAMPLE_RATE, hop_length=HOP_LENGTH)\n",
    "tempogram = librosa.feature.tempogram(onset_envelope=oenv, sr=SAMPLE_RATE,hop_length=HOP_LENGTH)\n",
    "\n",
    "print(\"ALL: {}\".format(tempogram.shape))\n",
    "oenv = librosa.onset.onset_strength(y=music1[0:SAMPLES_PER_SEGMENT], sr=SAMPLE_RATE, hop_length=HOP_LENGTH)\n",
    "tempogram = librosa.feature.tempogram(onset_envelope=oenv, sr=SAMPLE_RATE,hop_length=HOP_LENGTH)\n",
    "tempogram.shape\n",
    "print(\"SEG: {}\".format(tempogram.shape))"
   ]
  },
  {
   "cell_type": "markdown",
   "metadata": {},
   "source": [
    "> Soap popera"
   ]
  },
  {
   "cell_type": "code",
   "execution_count": 42,
   "metadata": {
    "execution": {
     "iopub.execute_input": "2020-09-02T22:28:38.875179Z",
     "iopub.status.busy": "2020-09-02T22:28:38.874886Z",
     "iopub.status.idle": "2020-09-02T22:28:39.498994Z",
     "shell.execute_reply": "2020-09-02T22:28:39.498426Z",
     "shell.execute_reply.started": "2020-09-02T22:28:38.875152Z"
    }
   },
   "outputs": [
    {
     "name": "stdout",
     "output_type": "stream",
     "text": [
      "ALL: (384, 5311)\n",
      "SEG: (384, 431)\n"
     ]
    }
   ],
   "source": [
    "oenv = librosa.onset.onset_strength(y=soap_intro1, sr=SAMPLE_RATE, hop_length=HOP_LENGTH)\n",
    "tempogram = librosa.feature.tempogram(onset_envelope=oenv, sr=SAMPLE_RATE,hop_length=HOP_LENGTH)\n",
    "\n",
    "print(\"ALL: {}\".format(tempogram.shape))\n",
    "oenv = librosa.onset.onset_strength(y=soap_intro1[0:SAMPLES_PER_SEGMENT], sr=SAMPLE_RATE, hop_length=HOP_LENGTH)\n",
    "tempogram = librosa.feature.tempogram(onset_envelope=oenv, sr=SAMPLE_RATE,hop_length=HOP_LENGTH)\n",
    "tempogram.shape\n",
    "print(\"SEG: {}\".format(tempogram.shape))"
   ]
  },
  {
   "cell_type": "markdown",
   "metadata": {},
   "source": [
    "> Speech"
   ]
  },
  {
   "cell_type": "code",
   "execution_count": 43,
   "metadata": {
    "execution": {
     "iopub.execute_input": "2020-09-02T22:28:39.500291Z",
     "iopub.status.busy": "2020-09-02T22:28:39.500060Z",
     "iopub.status.idle": "2020-09-02T22:28:39.692638Z",
     "shell.execute_reply": "2020-09-02T22:28:39.692028Z",
     "shell.execute_reply.started": "2020-09-02T22:28:39.500271Z"
    }
   },
   "outputs": [
    {
     "name": "stdout",
     "output_type": "stream",
     "text": [
      "ALL: (384, 1151)\n",
      "SEG: (384, 431)\n"
     ]
    }
   ],
   "source": [
    "oenv = librosa.onset.onset_strength(y=speech1, sr=SAMPLE_RATE, hop_length=HOP_LENGTH)\n",
    "tempogram = librosa.feature.tempogram(onset_envelope=oenv, sr=SAMPLE_RATE,hop_length=HOP_LENGTH)\n",
    "\n",
    "print(\"ALL: {}\".format(tempogram.shape))\n",
    "oenv = librosa.onset.onset_strength(y=speech1[0:SAMPLES_PER_SEGMENT], sr=SAMPLE_RATE, hop_length=HOP_LENGTH)\n",
    "tempogram = librosa.feature.tempogram(onset_envelope=oenv, sr=SAMPLE_RATE,hop_length=HOP_LENGTH)\n",
    "tempogram.shape\n",
    "print(\"SEG: {}\".format(tempogram.shape))"
   ]
  },
  {
   "cell_type": "markdown",
   "metadata": {},
   "source": [
    "<a id=\"recurrence\"></a>\n",
    "* Verifica o shape do retorno do `Recurrence Matrix`"
   ]
  },
  {
   "cell_type": "markdown",
   "metadata": {},
   "source": [
    "> Music"
   ]
  },
  {
   "cell_type": "code",
   "execution_count": 57,
   "metadata": {
    "execution": {
     "iopub.execute_input": "2020-09-02T22:32:51.318384Z",
     "iopub.status.busy": "2020-09-02T22:32:51.318112Z",
     "iopub.status.idle": "2020-09-02T22:32:53.765479Z",
     "shell.execute_reply": "2020-09-02T22:32:53.764863Z",
     "shell.execute_reply.started": "2020-09-02T22:32:51.318361Z"
    }
   },
   "outputs": [
    {
     "name": "stdout",
     "output_type": "stream",
     "text": [
      "ALL: (2586, 2586)\n",
      "SEG: (431, 431)\n"
     ]
    }
   ],
   "source": [
    "chroma = librosa.feature.chroma_cqt(y=music1, sr=SAMPLE_RATE, hop_length=HOP_LENGTH)\n",
    "chroma_stack = librosa.feature.stack_memory(chroma, n_steps=10, delay=3)\n",
    "R = librosa.segment.recurrence_matrix(chroma_stack, metric=\"cosine\",  mode='affinity')\n",
    "print(\"ALL: {}\".format(R.shape))\n",
    "chroma = librosa.feature.chroma_cqt(y=music1[0:SAMPLES_PER_SEGMENT], sr=SAMPLE_RATE, hop_length=HOP_LENGTH)\n",
    "chroma_stack = librosa.feature.stack_memory(chroma, n_steps=10, delay=3)\n",
    "R = librosa.segment.recurrence_matrix(chroma_stack, metric=\"cosine\",  mode='affinity')\n",
    "print(\"SEG: {}\".format(R.shape))"
   ]
  },
  {
   "cell_type": "markdown",
   "metadata": {},
   "source": [
    "> Soap popera"
   ]
  },
  {
   "cell_type": "code",
   "execution_count": 58,
   "metadata": {
    "execution": {
     "iopub.execute_input": "2020-09-02T22:32:53.766670Z",
     "iopub.status.busy": "2020-09-02T22:32:53.766487Z",
     "iopub.status.idle": "2020-09-02T22:32:58.763705Z",
     "shell.execute_reply": "2020-09-02T22:32:58.762944Z",
     "shell.execute_reply.started": "2020-09-02T22:32:53.766653Z"
    }
   },
   "outputs": [
    {
     "name": "stdout",
     "output_type": "stream",
     "text": [
      "ALL: (5311, 5311)\n",
      "SEG: (431, 431)\n"
     ]
    }
   ],
   "source": [
    "chroma = librosa.feature.chroma_cqt(y=soap_intro1, sr=SAMPLE_RATE, hop_length=HOP_LENGTH)\n",
    "chroma_stack = librosa.feature.stack_memory(chroma, n_steps=10, delay=3)\n",
    "R = librosa.segment.recurrence_matrix(chroma_stack, metric=\"cosine\",  mode='affinity')\n",
    "print(\"ALL: {}\".format(R.shape))\n",
    "chroma = librosa.feature.chroma_cqt(y=soap_intro1[0:SAMPLES_PER_SEGMENT], sr=SAMPLE_RATE, hop_length=HOP_LENGTH)\n",
    "chroma_stack = librosa.feature.stack_memory(chroma, n_steps=10, delay=3)\n",
    "R = librosa.segment.recurrence_matrix(chroma_stack, metric=\"cosine\",  mode='affinity')\n",
    "print(\"SEG: {}\".format(R.shape))"
   ]
  },
  {
   "cell_type": "markdown",
   "metadata": {},
   "source": [
    "> Speech"
   ]
  },
  {
   "cell_type": "code",
   "execution_count": 59,
   "metadata": {
    "execution": {
     "iopub.execute_input": "2020-09-02T22:32:58.765717Z",
     "iopub.status.busy": "2020-09-02T22:32:58.765492Z",
     "iopub.status.idle": "2020-09-02T22:33:00.065539Z",
     "shell.execute_reply": "2020-09-02T22:33:00.064930Z",
     "shell.execute_reply.started": "2020-09-02T22:32:58.765655Z"
    }
   },
   "outputs": [
    {
     "name": "stdout",
     "output_type": "stream",
     "text": [
      "ALL: (1151, 1151)\n",
      "SEG: (431, 431)\n"
     ]
    }
   ],
   "source": [
    "chroma = librosa.feature.chroma_cqt(y=speech1, sr=SAMPLE_RATE, hop_length=HOP_LENGTH)\n",
    "chroma_stack = librosa.feature.stack_memory(chroma, n_steps=10, delay=3)\n",
    "R = librosa.segment.recurrence_matrix(chroma_stack, metric=\"cosine\",  mode='affinity')\n",
    "print(\"ALL: {}\".format(R.shape))\n",
    "chroma = librosa.feature.chroma_cqt(y=speech1[0:SAMPLES_PER_SEGMENT], sr=SAMPLE_RATE, hop_length=HOP_LENGTH)\n",
    "chroma_stack = librosa.feature.stack_memory(chroma, n_steps=10, delay=3)\n",
    "R = librosa.segment.recurrence_matrix(chroma_stack, metric=\"cosine\",  mode='affinity')\n",
    "print(\"SEG: {}\".format(R.shape))"
   ]
  },
  {
   "cell_type": "code",
   "execution_count": null,
   "metadata": {},
   "outputs": [],
   "source": []
  }
 ],
 "metadata": {
  "kernelspec": {
   "display_name": "Python 3",
   "language": "python",
   "name": "python3"
  },
  "language_info": {
   "codemirror_mode": {
    "name": "ipython",
    "version": 3
   },
   "file_extension": ".py",
   "mimetype": "text/x-python",
   "name": "python",
   "nbconvert_exporter": "python",
   "pygments_lexer": "ipython3",
   "version": "3.8.3"
  }
 },
 "nbformat": 4,
 "nbformat_minor": 4
}

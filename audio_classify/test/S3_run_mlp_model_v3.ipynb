{
 "cells": [
  {
   "cell_type": "markdown",
   "metadata": {
    "execution": {
     "iopub.execute_input": "2020-09-20T14:20:26.346648Z",
     "iopub.status.busy": "2020-09-20T14:20:26.346395Z",
     "iopub.status.idle": "2020-09-20T14:20:26.351284Z",
     "shell.execute_reply": "2020-09-20T14:20:26.350149Z",
     "shell.execute_reply.started": "2020-09-20T14:20:26.346618Z"
    }
   },
   "source": [
    "### Criação do modelo:\n",
    "* Segmento igual a 1 segundos\n",
    "* aumentamos a quantidade de dados utilizados para validação para 30%\n",
    "* voltamos o hop length e fram length para o padrão de 256 e 1024\n",
    "* Treinamos um modelo com (32,32,32,64,2) e após reduzimos o tamnho da rede a metade."
   ]
  },
  {
   "cell_type": "code",
   "execution_count": null,
   "metadata": {},
   "outputs": [],
   "source": [
    "import librosa\n",
    "import numpy as np\n",
    "from tensorflow import keras\n",
    "\n",
    "%load_ext autoreload\n",
    "%autoreload 2\n",
    "%run ./S0_util.ipynb"
   ]
  },
  {
   "cell_type": "markdown",
   "metadata": {
    "execution": {
     "iopub.execute_input": "2020-09-17T16:58:07.169389Z",
     "iopub.status.busy": "2020-09-17T16:58:07.169130Z",
     "iopub.status.idle": "2020-09-17T16:58:07.219121Z",
     "shell.execute_reply": "2020-09-17T16:58:07.218051Z",
     "shell.execute_reply.started": "2020-09-17T16:58:07.169367Z"
    }
   },
   "source": [
    "### Sumário\n",
    "1. Rede Tamanho do Artigo [link](#mel_spec_all)\n",
    "2. Rede com Metade do Tamanho [link](#mel_spec_half)"
   ]
  },
  {
   "cell_type": "markdown",
   "metadata": {
    "execution": {
     "iopub.execute_input": "2020-09-04T13:27:03.632198Z",
     "iopub.status.busy": "2020-09-04T13:27:03.631921Z",
     "iopub.status.idle": "2020-09-04T13:27:03.681992Z",
     "shell.execute_reply": "2020-09-04T13:27:03.681300Z",
     "shell.execute_reply.started": "2020-09-04T13:27:03.632173Z"
    }
   },
   "source": [
    "<a id=\"mel_spec_all\"></a>\n",
    "#### MEL SPEC + rms\n",
    "> Foi gerado apenas `20` MEL Spectogram values (Muito Utilizado para reconhecimento de padrão)"
   ]
  },
  {
   "cell_type": "markdown",
   "metadata": {},
   "source": [
    "* Novela: A Favorita"
   ]
  },
  {
   "cell_type": "code",
   "execution_count": 4,
   "metadata": {
    "execution": {
     "iopub.execute_input": "2020-09-18T16:58:08.336455Z",
     "iopub.status.busy": "2020-09-18T16:58:08.336199Z",
     "iopub.status.idle": "2020-09-18T16:58:40.817040Z",
     "shell.execute_reply": "2020-09-18T16:58:40.816365Z",
     "shell.execute_reply.started": "2020-09-18T16:58:08.336433Z"
    }
   },
   "outputs": [
    {
     "name": "stdout",
     "output_type": "stream",
     "text": [
      "******Abertura******\n",
      "SAMPLE SHAPE: (61, 87, 21, 1)\n"
     ]
    },
    {
     "data": {
      "image/png": "[encoded data removed]",
      "text/plain": [
       "<Figure size 864x288 with 1 Axes>"
      ]
     },
     "metadata": {
      "needs_background": "light"
     },
     "output_type": "display_data"
    },
    {
     "name": "stdout",
     "output_type": "stream",
     "text": [
      "*******Bloco1*******\n",
      "SAMPLE SHAPE: (717, 87, 21, 1)\n"
     ]
    },
    {
     "data": {
      "image/png": "[encoded data removed]",
      "text/plain": [
       "<Figure size 864x288 with 1 Axes>"
      ]
     },
     "metadata": {
      "needs_background": "light"
     },
     "output_type": "display_data"
    }
   ],
   "source": [
    "print(\"Abertura\".center(20, '*'))\n",
    "run_model([\"mel_spec\",\"rms\"], '../data/globo/8701320.wav')\n",
    "print(\"Bloco1\".center(20, '*'))\n",
    "run_model([\"mel_spec\",\"rms\"],'../data/globo/949809.wav')"
   ]
  },
  {
   "cell_type": "markdown",
   "metadata": {
    "execution": {
     "iopub.execute_input": "2020-09-04T14:05:20.612755Z",
     "iopub.status.busy": "2020-09-04T14:05:20.612470Z",
     "iopub.status.idle": "2020-09-04T14:05:20.662006Z",
     "shell.execute_reply": "2020-09-04T14:05:20.660992Z",
     "shell.execute_reply.started": "2020-09-04T14:05:20.612732Z"
    }
   },
   "source": [
    "* Novela: Órfões da Terra"
   ]
  },
  {
   "cell_type": "code",
   "execution_count": 6,
   "metadata": {
    "execution": {
     "iopub.execute_input": "2020-09-18T16:59:43.872814Z",
     "iopub.status.busy": "2020-09-18T16:59:43.872531Z",
     "iopub.status.idle": "2020-09-18T17:00:12.547885Z",
     "shell.execute_reply": "2020-09-18T17:00:12.547370Z",
     "shell.execute_reply.started": "2020-09-18T16:59:43.872788Z"
    }
   },
   "outputs": [
    {
     "name": "stdout",
     "output_type": "stream",
     "text": [
      "******Abertura******\n",
      "SAMPLE SHAPE: (67, 87, 21, 1)\n"
     ]
    },
    {
     "data": {
      "image/png": "[encoded data removed]",
      "text/plain": [
       "<Figure size 864x288 with 1 Axes>"
      ]
     },
     "metadata": {
      "needs_background": "light"
     },
     "output_type": "display_data"
    },
    {
     "name": "stdout",
     "output_type": "stream",
     "text": [
      "*******Bloco1*******\n",
      "SAMPLE SHAPE: (610, 87, 21, 1)\n"
     ]
    },
    {
     "data": {
      "image/png": "[encoded data removed]",
      "text/plain": [
       "<Figure size 864x288 with 1 Axes>"
      ]
     },
     "metadata": {
      "needs_background": "light"
     },
     "output_type": "display_data"
    }
   ],
   "source": [
    "print(\"Abertura\".center(20, '*'))\n",
    "run_model([\"mel_spec\",\"rms\"], \"../data/globo/7822663.wav\")\n",
    "print(\"Bloco1\".center(20, '*'))\n",
    "run_model([\"mel_spec\",\"rms\"],\"../data/globo/7957359.wav\")"
   ]
  },
  {
   "cell_type": "markdown",
   "metadata": {
    "execution": {
     "iopub.execute_input": "2020-09-04T13:27:03.632198Z",
     "iopub.status.busy": "2020-09-04T13:27:03.631921Z",
     "iopub.status.idle": "2020-09-04T13:27:03.681992Z",
     "shell.execute_reply": "2020-09-04T13:27:03.681300Z",
     "shell.execute_reply.started": "2020-09-04T13:27:03.632173Z"
    }
   },
   "source": [
    "<a id=\"mel_spec_haf\"></a>\n",
    "#### MEL SPEC + rms\n",
    "> essa aqui a rede foi treinada com os mesmos dados da anterior mas com metade do tamanho"
   ]
  },
  {
   "cell_type": "markdown",
   "metadata": {},
   "source": [
    "* Novela: A Favorita"
   ]
  },
  {
   "cell_type": "code",
   "execution_count": 7,
   "metadata": {
    "execution": {
     "iopub.execute_input": "2020-09-18T21:16:04.207506Z",
     "iopub.status.busy": "2020-09-18T21:16:04.203546Z",
     "iopub.status.idle": "2020-09-18T21:16:36.283182Z",
     "shell.execute_reply": "2020-09-18T21:16:36.282558Z",
     "shell.execute_reply.started": "2020-09-18T21:16:04.207417Z"
    }
   },
   "outputs": [
    {
     "name": "stdout",
     "output_type": "stream",
     "text": [
      "******Abertura******\n",
      "SAMPLE SHAPE: (61, 87, 21, 1)\n"
     ]
    },
    {
     "data": {
      "image/png": "[encoded data removed]",
      "text/plain": [
       "<Figure size 864x288 with 1 Axes>"
      ]
     },
     "metadata": {
      "needs_background": "light"
     },
     "output_type": "display_data"
    },
    {
     "name": "stdout",
     "output_type": "stream",
     "text": [
      "*******Bloco1*******\n",
      "SAMPLE SHAPE: (717, 87, 21, 1)\n"
     ]
    },
    {
     "data": {
      "image/png": "[encoded data removed]",
      "text/plain": [
       "<Figure size 864x288 with 1 Axes>"
      ]
     },
     "metadata": {
      "needs_background": "light"
     },
     "output_type": "display_data"
    }
   ],
   "source": [
    "print(\"Abertura\".center(20, '*'))\n",
    "run_model([\"mel_spec\",\"rms\"], '../data/globo/8701320.wav')\n",
    "print(\"Bloco1\".center(20, '*'))\n",
    "run_model([\"mel_spec\",\"rms\"],'../data/globo/949809.wav')"
   ]
  },
  {
   "cell_type": "markdown",
   "metadata": {
    "execution": {
     "iopub.execute_input": "2020-09-04T14:05:20.612755Z",
     "iopub.status.busy": "2020-09-04T14:05:20.612470Z",
     "iopub.status.idle": "2020-09-04T14:05:20.662006Z",
     "shell.execute_reply": "2020-09-04T14:05:20.660992Z",
     "shell.execute_reply.started": "2020-09-04T14:05:20.612732Z"
    }
   },
   "source": [
    "* Novela: Órfões da Terra"
   ]
  },
  {
   "cell_type": "code",
   "execution_count": 8,
   "metadata": {
    "execution": {
     "iopub.execute_input": "2020-09-18T21:16:36.284548Z",
     "iopub.status.busy": "2020-09-18T21:16:36.284343Z",
     "iopub.status.idle": "2020-09-18T21:17:06.784336Z",
     "shell.execute_reply": "2020-09-18T21:17:06.783785Z",
     "shell.execute_reply.started": "2020-09-18T21:16:36.284530Z"
    }
   },
   "outputs": [
    {
     "name": "stdout",
     "output_type": "stream",
     "text": [
      "******Abertura******\n",
      "SAMPLE SHAPE: (67, 87, 21, 1)\n"
     ]
    },
    {
     "data": {
      "image/png": "[encoded data removed]",
      "text/plain": [
       "<Figure size 864x288 with 1 Axes>"
      ]
     },
     "metadata": {
      "needs_background": "light"
     },
     "output_type": "display_data"
    },
    {
     "name": "stdout",
     "output_type": "stream",
     "text": [
      "*******Bloco1*******\n",
      "SAMPLE SHAPE: (610, 87, 21, 1)\n"
     ]
    },
    {
     "data": {
      "image/png": "[encoded data removed]",
      "text/plain": [
       "<Figure size 864x288 with 1 Axes>"
      ]
     },
     "metadata": {
      "needs_background": "light"
     },
     "output_type": "display_data"
    }
   ],
   "source": [
    "print(\"Abertura\".center(20, '*'))\n",
    "run_model([\"mel_spec\",\"rms\"], \"../data/globo/7822663.wav\")\n",
    "print(\"Bloco1\".center(20, '*'))\n",
    "run_model([\"mel_spec\",\"rms\"],\"../data/globo/7957359.wav\")"
   ]
  },
  {
   "cell_type": "code",
   "execution_count": null,
   "metadata": {},
   "outputs": [],
   "source": []
  }
 ],
 "metadata": {
  "kernelspec": {
   "display_name": "Python 3.8.3 64-bit ('base': conda)",
   "language": "python",
   "name": "python38364bitbaseconda5ca1ac97bac24304b1ddb15e5b86f91d"
  },
  "language_info": {
   "codemirror_mode": {
    "name": "ipython",
    "version": 3
   },
   "file_extension": ".py",
   "mimetype": "text/x-python",
   "name": "python",
   "nbconvert_exporter": "python",
   "pygments_lexer": "ipython3",
   "version": "3.8.3"
  }
 },
 "nbformat": 4,
 "nbformat_minor": 4
}
